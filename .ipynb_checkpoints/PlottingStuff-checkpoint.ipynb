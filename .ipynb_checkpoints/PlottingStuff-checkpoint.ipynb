{
 "metadata": {
  "name": "",
  "signature": "sha256:8a955257de45fcc37e8106bebaafadd55ebfd99a24b8e8828fb33e2270738b48"
 },
 "nbformat": 3,
 "nbformat_minor": 0,
 "worksheets": []
}